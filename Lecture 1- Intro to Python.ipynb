{
 "cells": [
  {
   "cell_type": "code",
   "execution_count": 2,
   "id": "71098d42",
   "metadata": {},
   "outputs": [
    {
     "name": "stdout",
     "output_type": "stream",
     "text": [
      "helllo World\n"
     ]
    }
   ],
   "source": [
    " print(\"helllo World\")"
   ]
  },
  {
   "cell_type": "code",
   "execution_count": 3,
   "id": "0a04a57b",
   "metadata": {},
   "outputs": [
    {
     "ename": "SyntaxError",
     "evalue": "invalid syntax (2226532890.py, line 1)",
     "output_type": "error",
     "traceback": [
      "\u001b[1;36m  File \u001b[1;32m\"C:\\Users\\Lenovo\\AppData\\Local\\Temp\\ipykernel_23256\\2226532890.py\"\u001b[1;36m, line \u001b[1;32m1\u001b[0m\n\u001b[1;33m    Prakhar Agarwal\u001b[0m\n\u001b[1;37m            ^\u001b[0m\n\u001b[1;31mSyntaxError\u001b[0m\u001b[1;31m:\u001b[0m invalid syntax\n"
     ]
    }
   ],
   "source": [
    "Prakhar Agarwal"
   ]
  },
  {
   "cell_type": "code",
   "execution_count": 4,
   "id": "2f6b2524",
   "metadata": {},
   "outputs": [
    {
     "ename": "NameError",
     "evalue": "name 'printf' is not defined",
     "output_type": "error",
     "traceback": [
      "\u001b[1;31m---------------------------------------------------------------------------\u001b[0m",
      "\u001b[1;31mNameError\u001b[0m                                 Traceback (most recent call last)",
      "\u001b[1;32m~\\AppData\\Local\\Temp\\ipykernel_23256\\4002774348.py\u001b[0m in \u001b[0;36m<module>\u001b[1;34m\u001b[0m\n\u001b[1;32m----> 1\u001b[1;33m \u001b[0mprintf\u001b[0m\u001b[1;33m(\u001b[0m\u001b[1;34m\"Prakhar Agarwal\"\u001b[0m\u001b[1;33m)\u001b[0m\u001b[1;33m\u001b[0m\u001b[1;33m\u001b[0m\u001b[0m\n\u001b[0m",
      "\u001b[1;31mNameError\u001b[0m: name 'printf' is not defined"
     ]
    }
   ],
   "source": [
    "printf(\"Prakhar Agarwal\")"
   ]
  },
  {
   "cell_type": "code",
   "execution_count": 5,
   "id": "e6ab8911",
   "metadata": {},
   "outputs": [
    {
     "name": "stdout",
     "output_type": "stream",
     "text": [
      "Prakhar Agarwal\n"
     ]
    }
   ],
   "source": [
    "print(\"Prakhar Agarwal\")"
   ]
  },
  {
   "cell_type": "code",
   "execution_count": 6,
   "id": "ce5af75a",
   "metadata": {},
   "outputs": [
    {
     "ename": "NameError",
     "evalue": "name 'Print' is not defined",
     "output_type": "error",
     "traceback": [
      "\u001b[1;31m---------------------------------------------------------------------------\u001b[0m",
      "\u001b[1;31mNameError\u001b[0m                                 Traceback (most recent call last)",
      "\u001b[1;32m~\\AppData\\Local\\Temp\\ipykernel_23256\\3846183926.py\u001b[0m in \u001b[0;36m<module>\u001b[1;34m\u001b[0m\n\u001b[1;32m----> 1\u001b[1;33m \u001b[0mPrint\u001b[0m\u001b[1;33m(\u001b[0m\u001b[1;34m\"Prakhar\"\u001b[0m\u001b[1;33m)\u001b[0m\u001b[1;33m\u001b[0m\u001b[1;33m\u001b[0m\u001b[0m\n\u001b[0m",
      "\u001b[1;31mNameError\u001b[0m: name 'Print' is not defined"
     ]
    }
   ],
   "source": [
    "Print(\"Prakhar\")"
   ]
  },
  {
   "cell_type": "markdown",
   "id": "1301954a",
   "metadata": {},
   "source": [
    "### Python is case-sensitive"
   ]
  },
  {
   "cell_type": "markdown",
   "id": "66f00ddc",
   "metadata": {},
   "source": [
    "###lkvfm;vmf;bmbf\n"
   ]
  },
  {
   "cell_type": "markdown",
   "id": "c56cb444",
   "metadata": {},
   "source": [
    "### fm;mv;dmv;m"
   ]
  },
  {
   "cell_type": "markdown",
   "id": "fa60f0c8",
   "metadata": {},
   "source": [
    "### helo bekfkd\n"
   ]
  },
  {
   "cell_type": "markdown",
   "id": "50fc7d97",
   "metadata": {},
   "source": [
    "##### with five hastags"
   ]
  },
  {
   "cell_type": "code",
   "execution_count": 8,
   "id": "a8157ab7",
   "metadata": {},
   "outputs": [
    {
     "ename": "NameError",
     "evalue": "name 'Prakhar' is not defined",
     "output_type": "error",
     "traceback": [
      "\u001b[1;31m---------------------------------------------------------------------------\u001b[0m",
      "\u001b[1;31mNameError\u001b[0m                                 Traceback (most recent call last)",
      "\u001b[1;32m~\\AppData\\Local\\Temp\\ipykernel_23256\\1605681350.py\u001b[0m in \u001b[0;36m<module>\u001b[1;34m\u001b[0m\n\u001b[1;32m----> 1\u001b[1;33m \u001b[0mprint\u001b[0m\u001b[1;33m(\u001b[0m\u001b[0mPrakhar\u001b[0m\u001b[1;33m)\u001b[0m\u001b[1;33m\u001b[0m\u001b[1;33m\u001b[0m\u001b[0m\n\u001b[0m",
      "\u001b[1;31mNameError\u001b[0m: name 'Prakhar' is not defined"
     ]
    }
   ],
   "source": [
    "print(Prakhar)"
   ]
  },
  {
   "cell_type": "code",
   "execution_count": 9,
   "id": "8a93dbdd",
   "metadata": {},
   "outputs": [
    {
     "name": "stdout",
     "output_type": "stream",
     "text": [
      "10\n"
     ]
    }
   ],
   "source": [
    "print(10)"
   ]
  },
  {
   "cell_type": "code",
   "execution_count": 10,
   "id": "f482bed6",
   "metadata": {},
   "outputs": [
    {
     "name": "stdout",
     "output_type": "stream",
     "text": [
      "Prakhar\n"
     ]
    }
   ],
   "source": [
    "print('Prakhar')"
   ]
  },
  {
   "cell_type": "markdown",
   "id": "f7e65112",
   "metadata": {},
   "source": [
    "### String(text) should be in inverted comma"
   ]
  },
  {
   "cell_type": "markdown",
   "id": "01a5bbcd",
   "metadata": {},
   "source": [
    "### Shortcut Keys\n"
   ]
  },
  {
   "cell_type": "markdown",
   "id": "a6876f6e",
   "metadata": {},
   "source": [
    "##### Run-> Shift+Enter\n",
    "##### Add a cell above -> a\n",
    "##### Add a cell Below -> b\n",
    "##### Delete a cell -> x"
   ]
  },
  {
   "cell_type": "code",
   "execution_count": 17,
   "id": "25a9db45",
   "metadata": {},
   "outputs": [
    {
     "data": {
      "text/plain": [
       "int"
      ]
     },
     "execution_count": 17,
     "metadata": {},
     "output_type": "execute_result"
    }
   ],
   "source": [
    "x=10\n",
    "type(x)"
   ]
  },
  {
   "cell_type": "code",
   "execution_count": 18,
   "id": "612291e1",
   "metadata": {},
   "outputs": [
    {
     "data": {
      "text/plain": [
       "float"
      ]
     },
     "execution_count": 18,
     "metadata": {},
     "output_type": "execute_result"
    }
   ],
   "source": [
    "x=10.5\n",
    "type(x)"
   ]
  },
  {
   "cell_type": "code",
   "execution_count": 19,
   "id": "ce52cbf2",
   "metadata": {},
   "outputs": [
    {
     "data": {
      "text/plain": [
       "str"
      ]
     },
     "execution_count": 19,
     "metadata": {},
     "output_type": "execute_result"
    }
   ],
   "source": [
    "course=\"Data Science\"\n",
    "type(course)"
   ]
  },
  {
   "cell_type": "markdown",
   "id": "0ae50eeb",
   "metadata": {},
   "source": [
    "### Variables"
   ]
  },
  {
   "cell_type": "code",
   "execution_count": 20,
   "id": "9bf1845a",
   "metadata": {},
   "outputs": [
    {
     "data": {
      "text/plain": [
       "('DS', 'BS', 'ML')"
      ]
     },
     "execution_count": 20,
     "metadata": {},
     "output_type": "execute_result"
    }
   ],
   "source": [
    "coursenames=\"DS\", \"BS\", \"ML\"\n",
    "coursenames"
   ]
  },
  {
   "cell_type": "code",
   "execution_count": 21,
   "id": "7fad4eac",
   "metadata": {
    "scrolled": false
   },
   "outputs": [
    {
     "ename": "SyntaxError",
     "evalue": "invalid syntax (4283356387.py, line 1)",
     "output_type": "error",
     "traceback": [
      "\u001b[1;36m  File \u001b[1;32m\"C:\\Users\\Lenovo\\AppData\\Local\\Temp\\ipykernel_23256\\4283356387.py\"\u001b[1;36m, line \u001b[1;32m1\u001b[0m\n\u001b[1;33m    course names=\"DS\", \"BS\", \"ML\"\u001b[0m\n\u001b[1;37m           ^\u001b[0m\n\u001b[1;31mSyntaxError\u001b[0m\u001b[1;31m:\u001b[0m invalid syntax\n"
     ]
    }
   ],
   "source": [
    "course names=\"DS\", \"BS\", \"ML\"\n",
    "course names"
   ]
  },
  {
   "cell_type": "markdown",
   "id": "01b273ee",
   "metadata": {},
   "source": [
    "### Space is not allowed "
   ]
  },
  {
   "cell_type": "code",
   "execution_count": 23,
   "id": "39f42f86",
   "metadata": {},
   "outputs": [
    {
     "ename": "SyntaxError",
     "evalue": "cannot assign to operator (1509911429.py, line 1)",
     "output_type": "error",
     "traceback": [
      "\u001b[1;36m  File \u001b[1;32m\"C:\\Users\\Lenovo\\AppData\\Local\\Temp\\ipykernel_23256\\1509911429.py\"\u001b[1;36m, line \u001b[1;32m1\u001b[0m\n\u001b[1;33m    course-names=\"DS\", \"BS\", \"ML\"\u001b[0m\n\u001b[1;37m    ^\u001b[0m\n\u001b[1;31mSyntaxError\u001b[0m\u001b[1;31m:\u001b[0m cannot assign to operator\n"
     ]
    }
   ],
   "source": [
    "course-names=\"DS\", \"BS\", \"ML\"\n",
    "course-names"
   ]
  },
  {
   "cell_type": "code",
   "execution_count": 24,
   "id": "0ed8e148",
   "metadata": {},
   "outputs": [
    {
     "ename": "SyntaxError",
     "evalue": "cannot assign to operator (850930573.py, line 1)",
     "output_type": "error",
     "traceback": [
      "\u001b[1;36m  File \u001b[1;32m\"C:\\Users\\Lenovo\\AppData\\Local\\Temp\\ipykernel_23256\\850930573.py\"\u001b[1;36m, line \u001b[1;32m1\u001b[0m\n\u001b[1;33m    course*names=\"DS\", \"BS\", \"ML\"\u001b[0m\n\u001b[1;37m    ^\u001b[0m\n\u001b[1;31mSyntaxError\u001b[0m\u001b[1;31m:\u001b[0m cannot assign to operator\n"
     ]
    }
   ],
   "source": [
    "course*names=\"DS\", \"BS\", \"ML\"\n",
    "course*names"
   ]
  },
  {
   "cell_type": "code",
   "execution_count": 25,
   "id": "8532459d",
   "metadata": {},
   "outputs": [
    {
     "data": {
      "text/plain": [
       "('DS', 'BS', 'ML')"
      ]
     },
     "execution_count": 25,
     "metadata": {},
     "output_type": "execute_result"
    }
   ],
   "source": [
    "course_names=\"DS\", \"BS\", \"ML\"\n",
    "course_names"
   ]
  },
  {
   "cell_type": "markdown",
   "id": "ab7cc54d",
   "metadata": {},
   "source": [
    "### The only allowed spl chr (Special Character) is underscore"
   ]
  },
  {
   "cell_type": "code",
   "execution_count": 26,
   "id": "18f093ad",
   "metadata": {},
   "outputs": [
    {
     "ename": "SyntaxError",
     "evalue": "invalid syntax (449600188.py, line 1)",
     "output_type": "error",
     "traceback": [
      "\u001b[1;36m  File \u001b[1;32m\"C:\\Users\\Lenovo\\AppData\\Local\\Temp\\ipykernel_23256\\449600188.py\"\u001b[1;36m, line \u001b[1;32m1\u001b[0m\n\u001b[1;33m    3coursenames=\"DS\", \"BS\", \"ML\"\u001b[0m\n\u001b[1;37m     ^\u001b[0m\n\u001b[1;31mSyntaxError\u001b[0m\u001b[1;31m:\u001b[0m invalid syntax\n"
     ]
    }
   ],
   "source": [
    "3coursenames=\"DS\", \"BS\", \"ML\"\n",
    "3coursenames"
   ]
  },
  {
   "cell_type": "code",
   "execution_count": 27,
   "id": "c7102ba9",
   "metadata": {},
   "outputs": [
    {
     "data": {
      "text/plain": [
       "('DS', 'BS', 'ML')"
      ]
     },
     "execution_count": 27,
     "metadata": {},
     "output_type": "execute_result"
    }
   ],
   "source": [
    "coursenames3=\"DS\", \"BS\", \"ML\"\n",
    "coursenames3"
   ]
  },
  {
   "cell_type": "markdown",
   "id": "90519a18",
   "metadata": {},
   "source": [
    "### Variable should not start with a number\n",
    "### It should start with A-Z, a-z, or underscore(_)"
   ]
  },
  {
   "cell_type": "code",
   "execution_count": null,
   "id": "aa718800",
   "metadata": {},
   "outputs": [],
   "source": []
  }
 ],
 "metadata": {
  "kernelspec": {
   "display_name": "Python 3 (ipykernel)",
   "language": "python",
   "name": "python3"
  },
  "language_info": {
   "codemirror_mode": {
    "name": "ipython",
    "version": 3
   },
   "file_extension": ".py",
   "mimetype": "text/x-python",
   "name": "python",
   "nbconvert_exporter": "python",
   "pygments_lexer": "ipython3",
   "version": "3.9.13"
  }
 },
 "nbformat": 4,
 "nbformat_minor": 5
}
